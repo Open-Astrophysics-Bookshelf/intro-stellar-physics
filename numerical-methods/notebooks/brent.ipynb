{
 "cells": [
  {
   "cell_type": "code",
   "execution_count": null,
   "metadata": {},
   "outputs": [],
   "source": [
    "import numpy as np\n",
    "import matplotlib.pyplot as plt\n",
    "%matplotlib inline"
   ]
  },
  {
   "cell_type": "markdown",
   "metadata": {},
   "source": [
    "# Brent's Method: A Better Rootfind Algorithm\n",
    "\n",
    "Our workhorse routine for finding a root is *bisection*.  Given a function $f(x)$ and an interval $x\\in[a,b]$ such that $f(a) < 0, f(b) > 0$ or $f(a) > 0, f(b) < 0$, bisection is guaranteed to converge to the root.  As you know, this method works by finding the midpoint $m = (a+b)/2$; if the root lies in $[a,m]$ then the routine sets $b=m$, otherwise if the root lies in $[m,b]$ the routine sets $a=m$. The process then repeats until $|b-a|$ is smaller than some specified tolerance.\n",
    "\n",
    "Although bisection is guaranteed to converge, it isn't particularly smart. In this notebook, we'll demonstrate a smarter algorithm, known as *Brent's method*.  Let's begin by defining a suitable trial function, $f(x) = \\sin(x)$, on an interval $x\\in[1.5,4]$.  We'll use this $f(x)$ to explore different rootfind strategies."
   ]
  },
  {
   "cell_type": "code",
   "execution_count": null,
   "metadata": {},
   "outputs": [],
   "source": [
    "def f(x):\n",
    "    return np.sin(x)\n",
    "\n",
    "# we're making a lot of variations of this plot, so we'll collect everything into a single\n",
    "# function\n",
    "def base_plot(x):\n",
    "    fig = plt.figure(figsize=(8,5))\n",
    "    ax = fig.add_subplot(1,1,1)\n",
    "    xmin = x.min()\n",
    "    xmax = x.max()\n",
    "    y = f(x)\n",
    "    ymin = y.min()\n",
    "    ymax = y.max()\n",
    "    pad = 0.05*(ymax-ymin)\n",
    "    ymin -= pad\n",
    "    ymax += pad\n",
    "    ax.set_xlim(xmin,xmax)\n",
    "    ax.set_ylim(ymin,ymax)\n",
    "    plt.plot(x,y,'k-')\n",
    "    plt.vlines(np.pi,ymin,ymax,linestyle='-',linewidth=0.5,color='0.7')\n",
    "    plt.hlines(0,xmin,xmax,linestyle='-',linewidth=0.5,color='0.7')\n",
    "    plt.xlabel(r'$x$')\n",
    "    plt.ylabel(r'$y=f(x)$')\n",
    "    return ax\n",
    "\n",
    "xl = 1.5\n",
    "xr = 4.0\n",
    "x = np.linspace(xl,xr,100)\n",
    "base_plot(x)"
   ]
  },
  {
   "cell_type": "markdown",
   "metadata": {},
   "source": [
    "## Interpolating to predict the root\n",
    "\n",
    "As a first step, we could *predict* the location of the root by drawing a line between the endpoints, known as a *secant*, and finding where that secant crosses zero. We've marked on the plot (*red dot*) this guess for the root, and also indicated where the bisection guess (*black dot*) would fall."
   ]
  },
  {
   "cell_type": "code",
   "execution_count": null,
   "metadata": {},
   "outputs": [],
   "source": [
    "def secant(f,a,b):\n",
    "    fa = f(a)\n",
    "    fb = f(b)\n",
    "    # chose a to be closest to root, i.e., fa < fb\n",
    "    if fb < fa:\n",
    "        a,b = b,a\n",
    "        fa,fb = fb,fa\n",
    "    return (fb*a - fa*b)/(fb-fa)\n",
    "\n",
    "ax = base_plot(x)\n",
    "ax.plot([xl,xr],[f(xl),f(xr)],color='r',linewidth=0.5,linestyle='-')\n",
    "r = secant(f,xl,xr)\n",
    "ax.plot(r,f(r),'ro')\n",
    "\n",
    "xm = 0.5*(xl+xr)\n",
    "ax.plot(xm,f(xm),'ko')"
   ]
  },
  {
   "cell_type": "markdown",
   "metadata": {},
   "source": [
    "This guess is a bit closer than bisection. We could use this guess and the left endpoint to make a new secant and a new, better guess for the root. By repeating this process, we would gradually home in on the root.\n",
    "\n",
    "Of course, we can make a better approximation than just a secant. As you know, through any two points you can construct a curve; through any three points you can construct a parabola. As it turns out, we do have three points: left, right, and middle.\n",
    "Just as we constructed a straight line through the endpoints, we could construct a parabola ($y(x) = ax^2+bx+c$) through the endpoints of the interval and the midpoint, and then find $r$ such that $y(x=r) = 0$.\n",
    "\n",
    "The formula for $a$, $b$, and $c$ can be found with just a bit of algebra:\n",
    "\\begin{eqnarray}\n",
    "    a &=& \\left(\\frac{y_2-y_0}{x_2-x_0} - \\frac{y_1-y_0}{x_1-x_0}\\right)\\frac{1}{x_2-x_1}\\\\\n",
    "    b &=& \\frac{y_1-y_0}{x_1-x_0} - a\\left(x_1+x_0\\right)\\\\\n",
    "    c &=& y_0 - ax_0^2 -bx_0.\n",
    "\\end{eqnarray}\n",
    "Here $x_0$ means the left endpoint, $x_1$ is the midpoint, and $x_2$ is the right endpoint of the interval. This formula is implemented in the function `quadfit` in the next cell."
   ]
  },
  {
   "cell_type": "code",
   "execution_count": null,
   "metadata": {},
   "outputs": [],
   "source": [
    "def quadfit(x,y):\n",
    "    \"\"\"\n",
    "    Given 3 points, find a parabola y = ax^2 + bx + c going through \n",
    "    the points and return the coefficients a,b,c.\n",
    "    \n",
    "    Arguments\n",
    "        x, y (arrays)\n",
    "            x and y values of the points. Should be in order x[0] < x[1] < x[2].\n",
    "    Returns\n",
    "        a, b, c\n",
    "            coefficients of parabola y = ax^2 + bx +c\n",
    "    \"\"\"\n",
    "    try:\n",
    "        a = ((y[2]-y[0])/(x[2]-x[0]) - (y[1]-y[0])/(x[1]-x[0]))/(x[2]-x[1])\n",
    "        b = (y[1]-y[0])/(x[1]-x[0]) - (x[1]+x[0])*a\n",
    "        c = y[0] - a*x[0]**2 - b*x[0]\n",
    "    except:\n",
    "        raise ValueError('unable to compute a, b, c')\n",
    "    return (a,b,c)\n",
    "\n",
    "ax = base_plot(x)\n",
    "\n",
    "# construct the quadratic\n",
    "xm = 0.5*(xl+xr)\n",
    "xp = [xl,xm,xr]\n",
    "yp = [f(xl),f(xm),f(xr)]\n",
    "a,b,c = quadfit(xp,yp)\n",
    "\n",
    "# plot the parabola\n",
    "y_quad = a*x**2 + b*x + c\n",
    "ax.plot(x,y_quad,color='b')\n",
    "\n",
    "# solution to quadratic equation that lies in the interval [1.5,4]\n",
    "rq = 0.5*b/a*(-np.sqrt(1-4*a*c/b**2)-1)\n",
    "ax.plot(rq,f(rq),'bo')\n",
    "\n",
    "# show for comparison the guess from the secant method\n",
    "ax.plot([xl,xr],[f(xl),f(xr)],color='r',linewidth=0.5,linestyle='-')\n",
    "r = secant(f,xl,xr)\n",
    "ax.plot(r,f(r),'ro')\n",
    "\n",
    "# show for comparison the bisection guess at midpoint\n",
    "ax.plot(xm,f(xm),'ko')"
   ]
  },
  {
   "cell_type": "markdown",
   "metadata": {},
   "source": [
    "In the plot, the blue curve is our parabola that goes through the midpoint (black dot) and the two endpoints. As you can see, this approximation gives us a closer guess to the root.\n",
    "\n",
    "It is actually simpler, however, to invert the parabola: instead of making $y$ a quadratic function of $x$, instead treat $x$ as a quadratic function of $y$ ($x=ay^2+by+c$). To predict the root, just set $y=0$ to get the root $x=c$.  This is known as *inverse quadratic interpolation*. Given three points $(a,f(a))$, $(b, f(b))$, and $(c, f(c))$, with $a < r < b$, a prediction for $x$ such that $f(x) = 0$ is\n",
    "$$\n",
    "    x = \\frac{f(b)f(r)a}{[f(b)-f(a)][f(r)-f(a)]} - \\frac{f(a)f(r)b}{[f(b)-f(a)][f(r)-f(b)]} \n",
    "        + \\frac{f(a)f(b)r}{[f(r)-f(a)][f(r)-f(b)]}\n",
    "$$.\n",
    "This is implemented in the function `inverse_quad` in the next cell."
   ]
  },
  {
   "cell_type": "code",
   "execution_count": null,
   "metadata": {},
   "outputs": [],
   "source": [
    "def inverse_quad(f,r,a,b):\n",
    "    \"\"\"\n",
    "    Performs inverse quadratic interpolation to predict x s.t. f(x) = 0 in the interval\n",
    "    a < x < b.\n",
    "    \n",
    "    on the \n",
    "    three points (r, f(r)), (a, f(a)), and (b, f(b)) to predict x s.t. f(x)=0.\n",
    "    \n",
    "    Arguments\n",
    "        f\n",
    "            function for which we seek the root f(x) = 0\n",
    "        r\n",
    "            guess for the root: a < r < b\n",
    "        a, b\n",
    "            endpoints of interval\n",
    "    Returns\n",
    "        x\n",
    "            prediction for the root\n",
    "    \"\"\"\n",
    "    fa = f(a)\n",
    "    fb = f(b)\n",
    "    fr = f(r)\n",
    "    fba = fb-fa\n",
    "    fra = fr-fa\n",
    "    frb = fr-fb\n",
    "    \n",
    "    return fb*fr*a/fba/fra - fa*fr*b/fba/frb + fa*fb*r/fra/frb\n",
    "\n",
    "xl = x.min()\n",
    "xr = x.max()\n",
    "xm = 0.5*(xl+xr)\n",
    "ax = base_plot(x)\n",
    "\n",
    "# construct the quadratic\n",
    "xm = 0.5*(xl+xr)\n",
    "xp = [xl,xm,xr]\n",
    "yp = [f(xl),f(xm),f(xr)]\n",
    "\n",
    "# notice how we switch the arguments, so that x = a*y**2 + b*y + c now.\n",
    "a,b,c = quadfit(yp,xp)\n",
    "\n",
    "# plot the parabola\n",
    "y_quad = np.linspace(-0.75,1.0)\n",
    "x_quad = a*y_quad**2 + b*y_quad + c\n",
    "ax.plot(x_quad,y_quad,color='b')\n",
    "\n",
    "# solution to quadratic equation that lies in the interval [1.5,4]\n",
    "rq = inverse_quad(f,xm,xl,xr)\n",
    "ax.plot(rq,f(rq),'bo')\n",
    "\n",
    "# show for comparison the guess from the secant method\n",
    "ax.plot([xl,xr],[f(xl),f(xr)],color='r',linewidth=0.5,linestyle='-')\n",
    "r = secant(f,xl,xr)\n",
    "ax.plot(r,f(r),'ro')\n",
    "\n",
    "# show for comparison the bisection guess at midpoint\n",
    "ax.plot(xm,f(xm),'ko')"
   ]
  },
  {
   "cell_type": "markdown",
   "metadata": {},
   "source": [
    "So now we can construct a (hopefully) better estimate (blue dot) for the root. Now that we have a guess, on the next step (labeled '1' in the plot below) we could use the midpoint (*black dot*), our guess for the root (*blue dot*), and the right endpoint to construct the next guess."
   ]
  },
  {
   "cell_type": "code",
   "execution_count": null,
   "metadata": {},
   "outputs": [],
   "source": [
    "ax = base_plot(x)\n",
    "\n",
    "xl = x.min()\n",
    "xr = x.max()\n",
    "xm = 0.5*(xl+xr)\n",
    "\n",
    "# solution to quadratic equation that lies in the interval [1.5,4]\n",
    "rq = inverse_quad(f,xm,xl,xr)\n",
    "ax.plot(rq,f(rq),'bo')\n",
    "ax.annotate(s='0',xy=(rq,f(rq)),\n",
    "            va='bottom',ha='left',xytext=(4,4),textcoords='offset points',size='x-small')\n",
    "rq = inverse_quad(f,rq,xm,xr)\n",
    "ax.plot(rq,f(rq),'bo')\n",
    "ax.annotate(s='1',xy=(rq,f(rq)),\n",
    "            va='bottom',ha='left',xytext=(4,4),textcoords='offset points',size='x-small')\n",
    "\n",
    "# show for comparison the bisection guess at midpoint\n",
    "ax.plot(xm,f(xm),'ko')\n",
    "ax.annotate(s='0',xy=(xm,f(xm)),\n",
    "            va='bottom',ha='left',xytext=(4,4),textcoords='offset points',size='x-small')\n",
    "xm = 0.5*(xm+xr)\n",
    "ax.plot(xm,f(xm),'ko')\n",
    "ax.annotate(s='1',xy=(xm,f(xm)),\n",
    "            va='bottom',ha='left',xytext=(4,4),textcoords='offset points',size='x-small')"
   ]
  },
  {
   "cell_type": "markdown",
   "metadata": {},
   "source": [
    "## Trade-offs: speed vs robustness\n",
    "\n",
    "As you'll notice in the plot above, after one iteration with the inverse quadratic interpolation we are basically on top of the root (blue dot marked '1').  In contrast, with bisection we overshoot the root (black dot marked 1).\n",
    "\n",
    "Inverse quadratic interpolation doesn't always converge faster than bisection, however. Generally speaking, it works well when the interval in question is small enough that a parabola is a good approximation to the function.  For example, let's widen our interval to $x\\in[1.5,5.5]$ and again step through two iterations. We'll see that the upswing in $f(x)$ at $x > 3\\pi/2$ forces the guess from inverse quadratic interpolation wide of the mark."
   ]
  },
  {
   "cell_type": "code",
   "execution_count": null,
   "metadata": {},
   "outputs": [],
   "source": [
    "xl = 1.5\n",
    "xr = 5.5\n",
    "x = np.linspace(xl,xr,100)\n",
    "ax = base_plot(x)\n",
    "\n",
    "xm = 0.5*(xl+xr)\n",
    "\n",
    "# solution to quadratic equation that lies in the interval [1.5,4]\n",
    "rq = inverse_quad(f,xm,xl,xr)\n",
    "ax.plot(rq,f(rq),'bo')\n",
    "ax.annotate(s='0',xy=(rq,f(rq)),\n",
    "            va='bottom',ha='left',xytext=(4,4),textcoords='offset points',size='x-small')\n",
    "rq = inverse_quad(f,rq,xm,xr)\n",
    "ax.plot(rq,f(rq),'bo')\n",
    "ax.annotate(s='1',xy=(rq,f(rq)),\n",
    "            va='bottom',ha='left',xytext=(4,4),textcoords='offset points',size='x-small')\n",
    "\n",
    "# show for comparison the bisection guess at midpoint\n",
    "ax.plot(xm,f(xm),'ko')\n",
    "ax.annotate(s='0',xy=(xm,f(xm)),\n",
    "            va='bottom',ha='left',xytext=(4,4),textcoords='offset points',size='x-small')\n",
    "xm = 0.5*(xl+xm)\n",
    "ax.plot(xm,f(xm),'ko')\n",
    "ax.annotate(s='1',xy=(xm,f(xm)),\n",
    "            va='bottom',ha='left',xytext=(4,4),textcoords='offset points',size='x-small')"
   ]
  },
  {
   "cell_type": "markdown",
   "metadata": {},
   "source": [
    "In fact, there isn't even a guarantee that the guess provided by inverse quadratic interpolation will remain in the interval $[a,b]$. We therefore can't simply use that method without some safeguards. Basically, if the guess is worse than the bisection guess, or if it goes out of bounds, we take a bisection step; otherwise we use inverse quadratic interpolation.  This recipe is known as *Brent's method*.  The function `brent_lite` in the next cell performs one iteration of this method.\n",
    "\n",
    "For comparison, we'll also define a function `bisect` that performs one iteration of bisection."
   ]
  },
  {
   "cell_type": "code",
   "execution_count": null,
   "metadata": {},
   "outputs": [],
   "source": [
    "def brent_lite(f,r,a,b):\n",
    "    \"\"\"\n",
    "    f := function defined on a < x < b\n",
    "    r := best guess for root\n",
    "    \n",
    "    returns\n",
    "    r, a, b, method := new best guess for root r, new endpoints of interval a,b, and whether\n",
    "        the guess was obtained by bisection or inverse quadratic interpolation.\n",
    "    \"\"\"\n",
    "    fa = f(a)\n",
    "    fb = f(b)\n",
    "    # orient so that f(a) < 0\n",
    "    if fb < 0:\n",
    "        a,b = b,a\n",
    "    m = (a+b)/2\n",
    "    r = inverse_quad(f,r,a,b)\n",
    "\n",
    "    # move the endpoints of the interval \n",
    "    if (f(m) < 0):\n",
    "        a = m\n",
    "    else:\n",
    "        b = m\n",
    "\n",
    "    # use the bisection guess if r is a worse guess than m; otherwise keep r\n",
    "    if np.abs(f(r)) > np.abs(f(m)):\n",
    "        r = (a+b)/2\n",
    "        method = 'bisection'\n",
    "    else:\n",
    "        method = 'inverse quadratic interpolation'\n",
    "\n",
    "    return (r,a,b,method)"
   ]
  },
  {
   "cell_type": "code",
   "execution_count": null,
   "metadata": {},
   "outputs": [],
   "source": [
    "def bisect(f,a,b):\n",
    "    fa = f(a) # left side of bracket\n",
    "    fb = f(b) # right side of bracket\n",
    "    # orient so that f(a) < 0\n",
    "    if fb < fa:\n",
    "        a, b = b, a\n",
    "    m = (a+b)/2\n",
    "    if (f(m) < 0):\n",
    "        a = m\n",
    "    else:\n",
    "        b = m\n",
    "    return a, b"
   ]
  },
  {
   "cell_type": "markdown",
   "metadata": {},
   "source": [
    "## Evaluation\n",
    "\n",
    "Let's compare our two methods.  We'll first use bisection.  We'll run seven interations. For each step, we'll mark the endpoint by a black dot."
   ]
  },
  {
   "cell_type": "code",
   "execution_count": null,
   "metadata": {},
   "outputs": [],
   "source": [
    "xl = 1.5; xr = 5.5\n",
    "x = np.linspace(xl,xr,100)\n",
    "\n",
    "ax = base_plot(x)\n",
    "add_pt = True\n",
    "\n",
    "a = xl; b = xr\n",
    "rlast = a\n",
    "print('{0:>9} {1:>9} {2:>11} {3:>11}'.format('iteration','root r','|r-pi|','f(r)'))\n",
    "for i in range(7):\n",
    "    a,b = bisect(f,a,b)\n",
    "    r = (a+b)/2\n",
    "    print('{0:9d} {1:9.6f} {2:11.4e} {3:11.4e}'.format(i,r,f(r),np.abs(r-np.pi)))\n",
    "    if np.abs(r-rlast) > 0.05:\n",
    "        plt.plot(r,f(r),'ko')\n",
    "        plt.annotate(s='{0:d}'.format(i),xy=(r,f(r)),va='bottom',ha='left',xytext=(4,4),textcoords='offset points',size='x-small')\n",
    "    rlast = r"
   ]
  },
  {
   "cell_type": "markdown",
   "metadata": {},
   "source": [
    "Now let's use our rudimentary implementation of Brent's method. As we saw before, on the first iterations bisection is a better choice; after that the inverse quadratic interpolation rapidly converges to the root, so that we are at machine precision after only a few iterations."
   ]
  },
  {
   "cell_type": "code",
   "execution_count": null,
   "metadata": {},
   "outputs": [],
   "source": [
    "xl = 1.5; xr = 5.5\n",
    "xm = 0.5*(xl+xr)\n",
    "\n",
    "x = np.linspace(xl,xr,100)\n",
    "add_pt = True\n",
    "a = xl; b = xr; r = xm\n",
    "\n",
    "ax = base_plot(x)\n",
    "\n",
    "print('{0:>9} {1:>9} {2:>11} {3:>11} {4}'.format('iteration','root r','|r-pi|','f(r)','method'))\n",
    "for i in range(7):\n",
    "    d = r\n",
    "    r,a,b,method = brent_lite(f,r,a,b)\n",
    "    print('{0:9d} {1:9.6f} {2:11.4e} {3:11.4e} {4}'.format(i,r,np.abs(r-np.pi),f(r),method))\n",
    "    if method == 'bisection':\n",
    "        clr = 'k'\n",
    "    else:\n",
    "        clr = 'b'\n",
    "    if np.abs(d-r) > 0.01:\n",
    "        plt.plot(r,f(r),marker='o',color=clr)\n",
    "        plt.annotate(s='{0:d}'.format(i),xy=(r,f(r)),va='bottom',ha='left',xytext=(4,4),textcoords='offset points',size='x-small')"
   ]
  },
  {
   "cell_type": "markdown",
   "metadata": {},
   "source": [
    "## Summary\n",
    "\n",
    "Brent's method combines a rapidly converging sequence of inverse quadratic interpolations with a fallback bisection method. The method is therefore a popular choice for finding the root of a function on a bracketed interval. The algorithm is available in `scipy.optimize.brentq`."
   ]
  },
  {
   "cell_type": "code",
   "execution_count": null,
   "metadata": {},
   "outputs": [],
   "source": [
    "from scipy.optimize import brentq\n",
    "xl = 1.5\n",
    "xr = 5.5\n",
    "r, info = brentq(f,xl,xr,full_output=True)\n",
    "print('root of sin(x) on interval [1.5,5.5] is {0:9.6f}'.format(r))\n",
    "print('number of iterations = {0}'.format(info.iterations))"
   ]
  },
  {
   "cell_type": "markdown",
   "metadata": {},
   "source": [
    "## Exercise\n",
    "\n",
    "Using the cell above as a guide, solve for the root of $f(x)$ on $x\\in[1.5,5.5]$ using `scipy.optimize.bisect`. How many iterations are required for `bisect` compared with `brentq`?"
   ]
  },
  {
   "cell_type": "code",
   "execution_count": null,
   "metadata": {},
   "outputs": [],
   "source": []
  }
 ],
 "metadata": {
  "anaconda-cloud": {},
  "kernelspec": {
   "display_name": "Python 3",
   "language": "python",
   "name": "python3"
  },
  "language_info": {
   "codemirror_mode": {
    "name": "ipython",
    "version": 3
   },
   "file_extension": ".py",
   "mimetype": "text/x-python",
   "name": "python",
   "nbconvert_exporter": "python",
   "pygments_lexer": "ipython3",
   "version": "3.7.6"
  }
 },
 "nbformat": 4,
 "nbformat_minor": 4
}
