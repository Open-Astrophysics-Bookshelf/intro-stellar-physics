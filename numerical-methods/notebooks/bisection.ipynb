{
 "cells": [
  {
   "cell_type": "markdown",
   "metadata": {},
   "source": [
    "# Worksheet: Finding roots by bisection\n",
    "\n",
    "In this worksheet we'll explore how to find the root of a function via an algorithm called *bisection*.  Please work through it and submit via D2L.\n",
    "\n",
    "Suppose we want to find the root for the function $f(x) = \\sin(x)$ on the interval $1.5\\le r\\le 4$, that is, we wish to find $r$ such that $f(r) = 0$. Of course, we know the answer, namely $\\pi$, so we don't need to find an approximate numerical answer. We can, however, easily find problems for which the only recourse is to obtain a numerical answer."
   ]
  },
  {
   "cell_type": "markdown",
   "metadata": {},
   "source": [
    "# Setup\n",
    "First, we'll import numerical and graphical libraries, and define a function to make a base plot."
   ]
  },
  {
   "cell_type": "code",
   "execution_count": null,
   "metadata": {},
   "outputs": [],
   "source": [
    "import numpy as np\n",
    "import matplotlib.pyplot as plt\n",
    "%matplotlib inline\n",
    "\n",
    "def base_plot(x,y):\n",
    "    fig = plt.figure(figsize=(4,3))\n",
    "    ax = fig.add_subplot(111)\n",
    "    ax.spines['left'].set_position(('outward',10))\n",
    "    ax.spines['left'].set_smart_bounds(True)\n",
    "    ax.spines['right'].set_color('none')\n",
    "    ax.spines['top'].set_color('none')\n",
    "    ax.spines['bottom'].set_position(('outward',10))\n",
    "    ax.spines['bottom'].set_smart_bounds(True)\n",
    "    ax.xaxis.set_ticks_position('bottom')\n",
    "    ax.yaxis.set_ticks_position('left')\n",
    "    # mark the root\n",
    "    ax.vlines(np.pi,y.min(),y.max(),linestyle='-',linewidth=0.5,color='blue')\n",
    "    ax.hlines(0,x.min(),x.max(),linestyle='-',linewidth=0.5,color='blue')\n",
    "    ax.plot(x,y,'k-')\n",
    "    return fig,ax"
   ]
  },
  {
   "cell_type": "markdown",
   "metadata": {},
   "source": [
    "# A function\n",
    "\n",
    "Next, we define $f(x)$, the root of which we are to find."
   ]
  },
  {
   "cell_type": "code",
   "execution_count": null,
   "metadata": {},
   "outputs": [],
   "source": [
    "def f(x):\n",
    "    return np.sin(x)"
   ]
  },
  {
   "cell_type": "markdown",
   "metadata": {},
   "source": [
    "# Bisecting to find the root\n",
    "\n",
    "## Step 0: Ensure the root is bracketed\n",
    "\n",
    "Now how to find the root $r$?  First, $f(1.5) >0$ and $f(4) < 0$; hence there exists a root in $1.5\\le x\\le 4$ (those who paid attention in calculus will recognize the *intermediate value theorem*. In a code, we can check that these conditions are met by checking that $f(a)\\times f(b) < 0$, where $a=1.5$ and $b=4$ in this case."
   ]
  },
  {
   "cell_type": "code",
   "execution_count": null,
   "metadata": {},
   "outputs": [],
   "source": [
    "a = 1.5\n",
    "b = 4\n",
    "fa = f(a)\n",
    "fb = f(b)\n",
    "print('f({0:.4f}) = {1:.4f}'.format(a,fa))\n",
    "print('f({0:.4f}) = {1:.4f}'.format(b,fb))\n",
    "assert(fa*fb < 0.0)"
   ]
  },
  {
   "cell_type": "markdown",
   "metadata": {},
   "source": [
    "## Step 1: move the brackets inward\n",
    "Now we can begin moving $a$ and $b$ closer together and reduce the uncertainty in the root. to do this, we find the midpoint of our interval $(a+b)/2$ and compute the value of $f$ there. "
   ]
  },
  {
   "cell_type": "code",
   "execution_count": null,
   "metadata": {},
   "outputs": [],
   "source": [
    "m = (a+b)/2\n",
    "fm = f(m)\n",
    "print('a = {0:.4f}; f(a) = {1:.4f}'.format(a,fa))\n",
    "print('m = {0:.4f}; f(m) = {1:.4f}'.format(m,fm))\n",
    "print('b = {0:.4f}; f(b) = {1:.4f}'.format(b,fb))\n",
    "# do the plot\n",
    "x = np.linspace(a,b,100)\n",
    "fig,ax = base_plot(x,f(x))\n",
    "ax.plot([a,b],[fa,fb],linestyle='none',marker='o',markersize=8,color='k')\n",
    "ax.plot(m,fm,marker='o',markersize=8,color='r')"
   ]
  },
  {
   "cell_type": "markdown",
   "metadata": {},
   "source": [
    "Your plot should match this. If not, rerun the cells starting at the beginning of the notebook to ensure that variables haven't been overwritten.\n",
    "![bisection: iteration 1](bisection-1.png)\n",
    "\n",
    "Since $f(m) > 0$ and $f(b)<0$, the root of $f(x)$ must lie between $m$ and $b$.  We can therefore set $a=m$ repeat our previous step to get an even better bracket of the root."
   ]
  },
  {
   "cell_type": "code",
   "execution_count": null,
   "metadata": {},
   "outputs": [],
   "source": [
    "a = m\n",
    "fa = f(a)\n",
    "# compute the new midpoint\n",
    "m = (a+b)/2\n",
    "fm = f(m)\n",
    "print('a = {0:.4f}; f(a) = {1:.4f}'.format(a,fa))\n",
    "print('m = {0:.4f}; f(m) = {1:.4f}'.format(m,fm))\n",
    "print('b = {0:.4f}; f(b) = {1:.4f}'.format(b,fb))\n",
    "fig,ax = base_plot(x,f(x))\n",
    "ax.plot([a,b],[fa,fb],linestyle='none',marker='o',markersize=8,color='k')\n",
    "ax.plot(m,fm,marker='o',markersize=8,color='r')"
   ]
  },
  {
   "cell_type": "markdown",
   "metadata": {},
   "source": [
    "Your plot should match this. If it doesn't make sure to rerun the cells from the beginning of this notebook to prevent data values from being overwritten.\n",
    "![bisection: iteration 2](bisection-2.png)\n",
    "\n",
    "Now we've fenced the root into a tighter box.\n",
    "Since $f(m) < 0$, the root must lie between $a$ and $m$.  We'll therefore set $b=m$ and then recompute $f(b)$.  We'll then compute a new midpoint. "
   ]
  },
  {
   "cell_type": "code",
   "execution_count": null,
   "metadata": {},
   "outputs": [],
   "source": [
    "b = m\n",
    "fb = f(b)\n",
    "# compute new midpoint\n",
    "m = (a+b)/2\n",
    "fm=f(m)\n",
    "print('a = {0:.4f}; f(a) = {1:.4f}'.format(a,fa))\n",
    "print('m = {0:.4f}; f(m) = {1:.4f}'.format(m,fm))\n",
    "print('b = {0:.4f}; f(b) = {1:.4f}'.format(b,fb))\n",
    "fig,ax = base_plot(x,f(x))\n",
    "ax.plot([a,b],[fa,fb],linestyle='none',marker='o',markersize=8,color='k')\n",
    "ax.plot(m,fm,marker='o',markersize=8,color='r')"
   ]
  },
  {
   "cell_type": "markdown",
   "metadata": {},
   "source": [
    "Your plot should match this:\n",
    "![bisection: iteration 3](bisection-3.png)\n",
    "\n",
    "Notice that we now have the root to about 5%: the root lies between 3.0625 (red dot) and 3.375 (rightmost black dot).\n",
    "\n",
    "Clearly we could keep going, and make increasingly tighter bounds on $r$. Doing this by hand is tedious—but aren't computers good at doing repetitive tasks?\n",
    "\n",
    "For example, here is a simple iteration.\n",
    "\n",
    "```python\n",
    "Fn = np.zeros(10,dtype=np.int64)\n",
    "Fn[1] = 1\n",
    "for i in range(2,10):\n",
    "    Fn[i] = Fn[i-1] + Fn[i-2]\n",
    "\n",
    "for i,f in enumerate(Fn):\n",
    "    print('Fn_{0} = {1}'.format(i,f))\n",
    "```\n",
    "\n",
    "produces\n",
    "```\n",
    "Fn_0 = 0\n",
    "Fn_1 = 1\n",
    "Fn_2 = 1\n",
    "Fn_3 = 2\n",
    "Fn_4 = 3\n",
    "Fn_5 = 5\n",
    "Fn_6 = 8\n",
    "Fn_7 = 13\n",
    "Fn_8 = 21\n",
    "Fn_9 = 34\n",
    "```\n",
    "\n",
    "Now you try: Write a loop that performs 10 iterations. On each iteraton the algorithm\n",
    "\n",
    "1. computes a new midpoint $m$ and the associated $f(m)$;\n",
    "2. adjusts $a$ or $b$ accordingly; and\n",
    "3. prints $a$, $b$, and $f(m)$.\n",
    "\n",
    "Pro-tip: In step 2, we have two separate cases, depending on whether $f(a) < 0$ or $f(b) < 0$. We can make it easier before the loop by choosing $a$ to be the side for which $f(a)<0$, like so:\n",
    "```python\n",
    "# ensure that root is bracketed\n",
    "assert(fa*fb < 0)\n",
    "# swap boundaries if necessary so that fa < 0\n",
    "if fa > 0:\n",
    "    a,b = b,a\n",
    "```"
   ]
  },
  {
   "cell_type": "code",
   "execution_count": null,
   "metadata": {},
   "outputs": [],
   "source": [
    "a = 1.5\n",
    "b = 4\n",
    "fa = f(a)\n",
    "fb = f(b)\n",
    "\n",
    "# start of bisection routine\n",
    "\n",
    "# ensure that root is bracketed\n",
    "assert(fa*fb < 0)\n",
    "# swap boundaries if necessary so that fa < 0\n",
    "if fa > 0:\n",
    "    a,b = b,a\n",
    "\n",
    "for i in range(10):\n",
    "    \n",
    "    # set the midpoint here\n",
    "    \n",
    "    print('{0:2}: a = {1:10.8f}, b = {2:10.8f}, f(m) = {3:10.8f}'.format(i,a,b,fm))    \n",
    "    \n",
    "    # reset a or b, according to where the midpoint is in relation to the root\n",
    "    "
   ]
  },
  {
   "cell_type": "markdown",
   "metadata": {},
   "source": [
    "## Step 2: When to stop\n",
    "\n",
    "How do we know how many iterations to take?  Let's specify a *tolerance*: we want the root to be bracketed to some accuracy.  If $m$ is the best guess for the root, then the relative accuracy is $|a-b|/m$. We can therefore set our loop to take more iterations than we need and then exit when we reach the desired tolerance. To exit a loop, use the `break` command:\n",
    "\n",
    "```python\n",
    "for i in range(1,10):\n",
    "    print('{0}...'.format(i))\n",
    "    if i == 3:\n",
    "        break\n",
    "print('...and we are out of the loop.')\n",
    "```\n",
    "produces\n",
    "```\n",
    "1...\n",
    "2...\n",
    "3...\n",
    "...and we are out of the loop.\n",
    "```\n",
    "\n",
    "For test purposes, let's set the tolerance at $10^{-6}$.\n",
    "Recall from the notes that we should reach the limits of floating-point precision in about 50 iterations (in the IEEE 64-bit standard, there are 53 bits of precision, and we gain a bit on each iteration), so let's make our loop a bit longer, say 80 iterations. When we reach the desired accuracy, we'll stop and compare our root with the known value, $\\pi$."
   ]
  },
  {
   "cell_type": "code",
   "execution_count": null,
   "metadata": {},
   "outputs": [],
   "source": [
    "a = 1.5\n",
    "b = 4\n",
    "fa = f(a)\n",
    "fb = f(b)\n",
    "tol = 1.0e-6\n",
    "\n",
    "# start of bisection routine\n",
    "\n",
    "# ensure that root is bracketed\n",
    "assert(fa*fb < 0)\n",
    "# swap boundaries if necessary so that fa < 0\n",
    "if fa > 0:\n",
    "    a,b = b,a\n",
    "\n",
    "for i in range(80):\n",
    "\n",
    "    # set the midpoint here    \n",
    "    \n",
    "    # **NEW** test for accuracy: it should be better than tol\n",
    "    \n",
    "    print('{0:2}: a = {1:10.8f}, b = {2:10.8f}, f(m) = {3:10.8f}'.format(i,a,b,fm))\n",
    "    \n",
    "    # reset a or b, according to where the midpoint is in relation to the root\n",
    "\n",
    "\n",
    "# compare m against the known value\n",
    "r = np.pi\n",
    "err = np.abs(m-r)/r\n",
    "print('\\nroot = {0:10.8f}; error is {2:9.2e}'.format(m,err))"
   ]
  },
  {
   "cell_type": "markdown",
   "metadata": {},
   "source": [
    "## A bisection function\n",
    "\n",
    "Now that we have our rootfind algorithm working, we can incorporate it into a function. In Python, a function can take another function as an argument, so our routine is more general. Let's therefore take the working block of code, and put it into the body of a function.\n",
    "\n",
    "A parameter of our function should be the desired tolerance, `tol`. Here we need to safeguard against having a value that is smaller than what can be computed in floating point. To access information about the floating point characteristics, we use numpy's `finfo` utility (run the next cell):"
   ]
  },
  {
   "cell_type": "code",
   "execution_count": null,
   "metadata": {},
   "outputs": [],
   "source": [
    "print(np.finfo(1.0).eps)"
   ]
  },
  {
   "cell_type": "markdown",
   "metadata": {},
   "source": [
    "In the code, we can check that the requested tolerance is larger than about 4 times machine precision."
   ]
  },
  {
   "cell_type": "code",
   "execution_count": null,
   "metadata": {},
   "outputs": [],
   "source": [
    "def my_bisection(f,a,b,tol):\n",
    "    \"\"\"\n",
    "    Compute the root of a function to a specified tolerance using bisection.\n",
    "    \n",
    "    Arguments\n",
    "        f\n",
    "            a user-defined function f(x)\n",
    "        a, b\n",
    "            endpoints of an interval that contains the root.\n",
    "        tol\n",
    "            the desired precision of the root. Must be larger than 4 times machine precision.\n",
    "    \n",
    "    returns\n",
    "        r\n",
    "            estimate of the root: f(r) should be approximately 0.\n",
    "    \"\"\"\n",
    "\n",
    "    max_iterations = 80\n",
    "    \n",
    "    # make sure tolerance isn't less than 4 times machine precision\n",
    "    assert(tol > 4.0*np.finfo(a).eps)\n",
    "\n",
    "    fa = f(a)\n",
    "    fb = f(b)    \n",
    "    # ensure that root is bracketed\n",
    "    assert(fa*fb < 0)\n",
    "    # swap boundaries if necessary so that fa < 0\n",
    "    if fa > 0:\n",
    "        a,b = b,a\n",
    "\n",
    "    # adjust a, b inwards until desired tolerance is reached\n",
    "    for i in range(max_iterations):\n",
    "\n",
    "    # fill this in\n",
    "    \n",
    "    return m\n",
    "\n",
    "# Test it!\n",
    "\n",
    "x0 = my_bisection(f,1.5,4,1.0e-12)\n",
    "# compare m against the known value\n",
    "r = np.pi\n",
    "err = np.abs(x0-r)/r\n",
    "print('\\nroot = {0:10.8f}; error is {2:9.2e}'.format(x0,err))"
   ]
  },
  {
   "cell_type": "markdown",
   "metadata": {},
   "source": [
    "\n",
    "**TIP:** It is always a good idea to make notes about the inputs and outputs of a function!  The header\n",
    "```python\n",
    "    \"\"\"\n",
    "    Compute the root of a function to a specified tolerance using bisection.\n",
    "    \n",
    "    Arguments\n",
    "        f\n",
    "            a user-defined function f(x)\n",
    "        a, b\n",
    "            endpoints of an interval that contains the root.\n",
    "        tol\n",
    "            the desired precision of the root. Must be larger than 4 times machine precision.\n",
    "    \n",
    "    returns\n",
    "        r\n",
    "            estimate of the root: f(r) should be approximately 0.\n",
    "    \"\"\"\n",
    "\n",
    "```\n",
    "does this.  Try entering\n",
    "```python\n",
    "help(my_bisection)\n",
    "```\n",
    "in the next cell."
   ]
  },
  {
   "cell_type": "code",
   "execution_count": null,
   "metadata": {},
   "outputs": [],
   "source": [
    "help(my_bisection)"
   ]
  },
  {
   "cell_type": "markdown",
   "metadata": {},
   "source": [
    "## Using a numerical library\n",
    "\n",
    "You might notice that your function could be improved. For example, it could check that the root is actually bracketed and generate an error message if it isn't. It should also handle the case if $f(a) > 0$ and $f(b) < 0$.  Finally, it would be nice to allow for additional parameters to $f$. Fortunately, someone has already gone to the trouble of writing a general purpose routine.  Try this:"
   ]
  },
  {
   "cell_type": "code",
   "execution_count": null,
   "metadata": {},
   "outputs": [],
   "source": [
    "from scipy.optimize import bisect\n",
    "help(bisect)"
   ]
  },
  {
   "cell_type": "markdown",
   "metadata": {},
   "source": [
    "You should be able to understand how to use the routine. In the parameters for this routine, `xtol` is the absolute difference between $a$ and $b$, and `rtol` is $|a-b|/b$: the relative error.\n",
    "\n",
    "Try it out:"
   ]
  },
  {
   "cell_type": "code",
   "execution_count": null,
   "metadata": {},
   "outputs": [],
   "source": [
    "x0 = bisect(f,1.5,4)\n",
    "r = np.pi\n",
    "err = np.abs(x0-r)/r\n",
    "print('r = {0:14.12f}; err = {1:9.2e}'.format(r,err))"
   ]
  },
  {
   "cell_type": "markdown",
   "metadata": {},
   "source": [
    "## Exercises\n",
    "\n",
    "Now use bisection to find the maximum $\\lambda_{\\mathrm{pk}}$ of the Planck function\n",
    "$$ B_\\lambda(T) = \\frac{2hc^2}{\\lambda^5}\\left[\\exp\\left(\\frac{hc}{\\lambda kT}\\right)-1\\right]^{-1}.$$\n",
    "\n",
    "**HINT:** By expressing $\\lambda_{\\mathrm{pk}}$ in terms of $h$, $c$, $k$, and $T$, you won't need to define any physical constants. Define\n",
    "$$ x = \\frac{hc}{\\lambda k T},$$\n",
    "write $B_\\lambda(T)$ in terms of $x$, and find $x_{\\mathrm{pk}}$ for which $B_\\lambda(T)$ is maximized."
   ]
  },
  {
   "cell_type": "code",
   "execution_count": null,
   "metadata": {},
   "outputs": [],
   "source": []
  },
  {
   "cell_type": "markdown",
   "metadata": {},
   "source": [
    "We can also express the Planck function in terms of frequency, $\\nu = c/\\lambda$:\n",
    "$$ B_\\nu(T) = \\frac{2h\\nu^3}{c^2}\\left[\\exp\\left(\\frac{h\\nu}{kT}\\right)-1\\right]^{-1}.$$\n",
    "Find $\\nu_{\\mathrm{pk}}$ that maximimizes $B_\\nu$. As before, define\n",
    "$$ y = \\frac{h\\nu}{kT} $$\n",
    "and find $y_{\\mathrm{pk}}$ for which $B_\\nu(T)$ is maximized."
   ]
  },
  {
   "cell_type": "code",
   "execution_count": null,
   "metadata": {},
   "outputs": [],
   "source": []
  }
 ],
 "metadata": {
  "kernelspec": {
   "display_name": "Python 3",
   "language": "python",
   "name": "python3"
  },
  "language_info": {
   "codemirror_mode": {
    "name": "ipython",
    "version": 3
   },
   "file_extension": ".py",
   "mimetype": "text/x-python",
   "name": "python",
   "nbconvert_exporter": "python",
   "pygments_lexer": "ipython3",
   "version": "3.7.6"
  }
 },
 "nbformat": 4,
 "nbformat_minor": 4
}
