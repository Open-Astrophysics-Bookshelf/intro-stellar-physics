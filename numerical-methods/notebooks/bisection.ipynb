{
 "cells": [
  {
   "cell_type": "markdown",
   "metadata": {},
   "source": [
    "# Worksheet: Finding roots by bisection\n",
    "\n",
    "In this worksheet we'll explore how to find the root of a function via an algorithm called *bisection*.  Please work through it and submit via D2L.\n",
    "\n",
    "As a worked example, suppose we want to find the root for the function $f(x) = x^2-2$ with $x > 0$. That is, we want to find $r > 0$ such that $f(x=r) = 0$. Of course, the answer has an algebraic solution, namely $\\sqrt{2}$ so we don't need to find an approximate numerical answer. We can, however, easily find problems for which the only recourse is to obtain a numerical answer."
   ]
  },
  {
   "cell_type": "code",
   "execution_count": null,
   "metadata": {},
   "outputs": [],
   "source": [
    "import numpy as np\n",
    "import matplotlib.pyplot as plt\n",
    "%matplotlib inline"
   ]
  },
  {
   "cell_type": "markdown",
   "metadata": {},
   "source": [
    "## A function\n",
    "\n",
    "First, we need a Python function to evalute $f(x)$. Python defines functions like so:"
   ]
  },
  {
   "cell_type": "code",
   "execution_count": null,
   "metadata": {},
   "outputs": [],
   "source": [
    "def f(x):\n",
    "    return x**2 - 2"
   ]
  },
  {
   "cell_type": "markdown",
   "metadata": {},
   "source": [
    "Try it!  Run the following cell.  Set $x$ to different values."
   ]
  },
  {
   "cell_type": "code",
   "execution_count": null,
   "metadata": {},
   "outputs": [],
   "source": [
    "x = 0\n",
    "print('f({0}) = {1}'.format(x,f(x)))"
   ]
  },
  {
   "cell_type": "markdown",
   "metadata": {},
   "source": [
    "Notice that we don't need to call the argument of $f$ by the *name* $x$:"
   ]
  },
  {
   "cell_type": "code",
   "execution_count": null,
   "metadata": {},
   "outputs": [],
   "source": [
    "y = 4\n",
    "print('f({0}) = {1}'.format(y,f(y)))\n",
    "z = 3\n",
    "print('f({0}) = {0}'.format(z,f(z)))"
   ]
  },
  {
   "cell_type": "markdown",
   "metadata": {},
   "source": [
    "Now how to find the root $r$?  First, we know that $0 < r < 2$.  We can check this: $f(0) < 0$ and $f(2) > 0$."
   ]
  },
  {
   "cell_type": "code",
   "execution_count": null,
   "metadata": {},
   "outputs": [],
   "source": [
    "a = 0\n",
    "b = 2\n",
    "fa = f(a)\n",
    "fb = f(b)\n",
    "print('f({0}) = {1}'.format(a,fa))\n",
    "print('f({0}) = {1}'.format(b,fb))"
   ]
  },
  {
   "cell_type": "markdown",
   "metadata": {},
   "source": [
    "Let's restrict this range.  We'll find the midpoint of our interval $[0,2]$ and compute the value of $f$ there.  In symbols, if the interval is $[a,b]$, then the midpoint is $m = (a+b)/2$."
   ]
  },
  {
   "cell_type": "code",
   "execution_count": null,
   "metadata": {},
   "outputs": [],
   "source": [
    "m = (a+b)/2\n",
    "fm = f(m)\n",
    "print('a = {0:3.1f}; f(a) = {1:4.1f}'.format(a,fa))\n",
    "print('m = {0:3.1f}; f(m) = {1:4.1f}'.format(m,fm))\n",
    "print('b = {0:3.1f}; f(b) = {1:4.1f}'.format(b,fb))"
   ]
  },
  {
   "cell_type": "markdown",
   "metadata": {},
   "source": [
    "Here I plot $f(a)$, $f(b)$, and $f(m)$.\n",
    "\n",
    "![bisection: iteration 1](bisection-1.png)\n",
    "\n",
    "Since $f(m) < 0$ and $f(b)>0$, the root of $f(x)$ must lie between $m$ and $b$.  We can therefore repeat our previous step to get an even better bracket of the root.  We'll reset out interval by setting $a = m$, and then recomputing $f(a)$.  We'll then compute a new midpoint and evaluate $f(x)$ there."
   ]
  },
  {
   "cell_type": "code",
   "execution_count": null,
   "metadata": {},
   "outputs": [],
   "source": [
    "# set a to be the old midpoint\n",
    "a = m\n",
    "fa = f(a)\n",
    "# compute the new midpoint\n",
    "m = (a+b)/2\n",
    "fm = f(m)\n",
    "print('a = {0:4.1f}; f(a) = {1:4.1f}'.format(a,fa))\n",
    "print('m = {0:4.1f}; f(m) = {1:4.1f}'.format(m,fm))\n",
    "print('b = {0:4.1f}; f(b) = {1:4.1f}'.format(b,fb))"
   ]
  },
  {
   "cell_type": "markdown",
   "metadata": {},
   "source": [
    "Now we've fenced the root into a tighter box.\n",
    "\n",
    "![bisection: iteration 2](bisection-2.png)\n",
    "\n",
    "Since $f(m) > 0$, the root must lie between $a$ and $m$.  We'll therefore reset our interval as before, but this time we'll set $b=m$ and then recompute $f(b)$.  We'll then compute a new midpoint. "
   ]
  },
  {
   "cell_type": "code",
   "execution_count": null,
   "metadata": {},
   "outputs": [],
   "source": [
    "# move right-hand boundary of the interval to the previous midpoint\n",
    "b = m\n",
    "fb = f(b)\n",
    "# compute new midpoint\n",
    "m = (a+b)/2\n",
    "fm=f(m)\n",
    "print('a = {0}; f(a) = {1}'.format(a,fa))\n",
    "print('m = {0}; f(m) = {1}'.format(m,fm))\n",
    "print('b = {0}; f(b) = {1}'.format(b,fb))"
   ]
  },
  {
   "cell_type": "markdown",
   "metadata": {},
   "source": [
    "Notice that we now have the root to about 25%: the root lies between 1 and 1.5.\n",
    "\n",
    "![bisection: iteration 3](bisection-3.png)\n",
    "\n",
    "Clearly we could keep going, and make increasingly tighter bounds on $r$. Doing this by hand is tedious—but aren't computers good at doing repetitive tasks?  We want a routine that iterates. On each iteration the routine\n",
    "\n",
    "1. computes a new midpoint $m$ and the associated $f(m)$;\n",
    "2. if $a < r < m$, then set $b=m$; otherwise, set $a=m$;\n",
    "3. for testing, let's print out (a,b), f(m) as we go.\n",
    "\n",
    "How many iterations? For now, let's just do 10 and see what happens.  Here is how to iterate in Python and act on a given condition.\n",
    "\n",
    "```python\n",
    "for i in range(5):\n",
    "    if i == 0:\n",
    "        print('Hello! i = {0}'.format(i))\n",
    "    elif i == 4:\n",
    "        print('Goodbye! i = {0}'.format(i))\n",
    "    else:\n",
    "        print('Hello, again! i = {0}'.format(i))\n",
    "```\n",
    "\n",
    "produces\n",
    "```\n",
    "Hello! i = 0\n",
    "Hello, again! i = 1\n",
    "Hello, again! i = 2\n",
    "Hello, again! i = 3\n",
    "Goodbye! i = 4\n",
    "```"
   ]
  },
  {
   "cell_type": "markdown",
   "metadata": {},
   "source": [
    "Now you try:\n",
    "1. write a loop that performs 10 iterations\n",
    "2. in the loop compute the midpoint and evaluate the function there.\n",
    "3. decide what the new interval is for the root and adjust $a$ or $b$ accordingly.\n",
    "4. print $a$, $b$, and $f(m)$."
   ]
  },
  {
   "cell_type": "code",
   "execution_count": null,
   "metadata": {},
   "outputs": [],
   "source": [
    "a = 0\n",
    "b = 2\n",
    "fa = f(a)\n",
    "fb = f(b)\n",
    "\n",
    "for i in range(10):\n",
    "    # set the midpoint here\n",
    "    print('{0}: a = {1}, b = {2}, f(m) = {3}'.format(i,a,b,fm))    \n",
    "    # reset a or b, according to where the midpoint is in relation to the root"
   ]
  },
  {
   "cell_type": "markdown",
   "metadata": {},
   "source": [
    "How do we know how many iterations?  Let's specify a *tolerance*: we want the root to be bracketed to some accuracy.  If $m$ is the best guess for the root, then the relative accuracy is $|a-b|/m$.  To exit a loop, use the `break` command:\n",
    "\n",
    "```python\n",
    "for i in range(1,10):\n",
    "    print('{0}...'.format(i))\n",
    "    if i == 3:\n",
    "        print(\"I'm leaving!\")\n",
    "        break\n",
    "print('and we are out of the loop.')\n",
    "```\n",
    "produces\n",
    "```\n",
    "1...\n",
    "2...\n",
    "3...\n",
    "I'm leaving!\n",
    "...and we are out of the loop.\n",
    "```\n",
    "\n",
    "So now let's make our loop 80 iterations, and let's add a test. When we reach the desired accuracy ($10^{-6}$), we'll stop and compare our root with the known value, $\\sqrt{2}$.  It should be close."
   ]
  },
  {
   "cell_type": "code",
   "execution_count": null,
   "metadata": {},
   "outputs": [],
   "source": [
    "a = 0\n",
    "b = 2\n",
    "fa = f(a)\n",
    "fb = f(b)\n",
    "tol = 1.0e-6\n",
    "for i in range(80):\n",
    "    # set the midpoint here    \n",
    "    # test for accuracy: it should be better than tol\n",
    "    print('{0:2}: a = {1:10.8f}, b = {2:10.8f}, f(m) = {3:10.8f}'.format(i,a,b,fm))    \n",
    "    # reset a or b, according to where the midpoint is in relation to the root\n",
    "\n",
    "\n",
    "# compare m against the known value\n",
    "r = np.sqrt(2.0)\n",
    "err = np.abs(m-r)/r\n",
    "print('\\nestimate of root is {0:10.8f}; error is {1:9.2e}'.format(m,err))"
   ]
  },
  {
   "cell_type": "markdown",
   "metadata": {},
   "source": [
    "## A bisection function\n",
    "\n",
    "Now that we have our rootfind algorithm working, we can incorporate it into a function. In Python, a function can take another function as an argument, so our routine is more general. Let's therefore take the working block of code, and put it into the body of a function."
   ]
  },
  {
   "cell_type": "code",
   "execution_count": null,
   "metadata": {},
   "outputs": [],
   "source": [
    "def my_bisection(f,a,b,tol):\n",
    "    \"\"\"\n",
    "    Compute the root of a function to a specified tolerance using bisection.\n",
    "    \n",
    "    Arguments\n",
    "        f\n",
    "            a user-defined function f(x)\n",
    "        a, b\n",
    "            endpoints of an interval that contains the root.  f(a) < 0, f(b) > 0.\n",
    "        tol\n",
    "            the desired precision of the root.\n",
    "    \n",
    "    returns\n",
    "        r\n",
    "            estimate of the root: f(r) should be approximately 0.\n",
    "    \"\"\"\n",
    "    \n",
    "    fa = f(a)\n",
    "    fb = f(b)\n",
    "    max_iterations = 80\n",
    "    for i in range(max_iterations):\n",
    "        # set the midpoint\n",
    "        # test for accuracy\n",
    "        # reset a or b, according to whether fm > 0 or not\n",
    "    return m\n",
    "\n",
    "# Try it out!\n",
    "\n",
    "x0 = my_bisection(f,0,2,1.0e-6)\n",
    "print('r = {0:10.8f}'.format(x0))"
   ]
  },
  {
   "cell_type": "markdown",
   "metadata": {},
   "source": [
    "\n",
    "**TIP:** It is always a good idea to make notes about the inputs and outputs of a function!  Give a one-line \n",
    "description of what the function does and then describe the inputs and outputs.  The header\n",
    "```python\n",
    "    \"\"\"\n",
    "    Compute the root of a function to a specified tolerance using bisection.\n",
    "    \n",
    "    Arguments\n",
    "        f\n",
    "            a user-defined function f(x)\n",
    "        a, b\n",
    "            endpoints of an interval that contains the root.  f(a) < 0, f(b) > 0.\n",
    "        tol\n",
    "            the desired precision of the root.\n",
    "    \n",
    "    returns\n",
    "        r\n",
    "            estimate of the root: f(r) should be approximately 0.\n",
    "    \"\"\"\n",
    "\n",
    "```\n",
    "does this.  Try entering\n",
    "```python\n",
    "help(my_bisection)\n",
    "```\n",
    "in the next cell."
   ]
  },
  {
   "cell_type": "code",
   "execution_count": null,
   "metadata": {},
   "outputs": [],
   "source": [
    "help(my_bisection)"
   ]
  },
  {
   "cell_type": "markdown",
   "metadata": {},
   "source": [
    "## Using a numerical library\n",
    "\n",
    "You might notice that your function could be improved. For example, it could check that the root is actually bracketed and generate an error message if it isn't. It should also handle the case if $f(a) > 0$ and $f(b) < 0$.  Finally, it would be nice to allow for additional parameters to $f$. Fortunately, someone has already gone to the trouble of writing a general purpose routine.  Try this:"
   ]
  },
  {
   "cell_type": "code",
   "execution_count": null,
   "metadata": {},
   "outputs": [],
   "source": [
    "from scipy.optimize import bisect\n",
    "help(bisect)"
   ]
  },
  {
   "cell_type": "markdown",
   "metadata": {},
   "source": [
    "You should be able to understand how to use the routine.  Try it out:"
   ]
  },
  {
   "cell_type": "code",
   "execution_count": null,
   "metadata": {},
   "outputs": [],
   "source": [
    "x0 = bisect(f,0,2)\n",
    "r = np.sqrt(2.0)\n",
    "err = np.abs(x0-r)/r\n",
    "print('r = {0:14.12f}; err = {1:9.2e}'.format(r,err))"
   ]
  },
  {
   "cell_type": "markdown",
   "metadata": {},
   "source": [
    "## Assignment\n",
    "\n",
    "Now use bisection to find the maximum $\\lambda_{\\mathrm{pk}}$ of the Planck function\n",
    "$$ B_\\lambda(T) = \\frac{2hc^2}{\\lambda^5}\\left[\\exp\\left(\\frac{hc}{\\lambda kT}\\right)-1\\right]^{-1}.$$\n",
    "\n",
    "**HINT:** By expressing $\\lambda_{\\mathrm{pk}}$ in terms of $h$, $c$, $k$, and $T$, you won't need to define any physical constants."
   ]
  },
  {
   "cell_type": "code",
   "execution_count": null,
   "metadata": {},
   "outputs": [],
   "source": []
  },
  {
   "cell_type": "markdown",
   "metadata": {},
   "source": [
    "We can also express the Planck function in terms of frequency, $\\nu = c/\\lambda$.  Find its maximum,\n",
    "$$ B_\\nu(T) = \\frac{2h\\nu^3}{c^2}\\left[\\exp\\left(\\frac{h\\nu}{kT}\\right)-1\\right]^{-1}.$$\n",
    "Find $\\nu_{\\mathrm{pk}}$ that maximimizes $B_\\nu$."
   ]
  },
  {
   "cell_type": "code",
   "execution_count": null,
   "metadata": {},
   "outputs": [],
   "source": []
  }
 ],
 "metadata": {
  "kernelspec": {
   "display_name": "Python 3",
   "language": "python",
   "name": "python3"
  },
  "language_info": {
   "codemirror_mode": {
    "name": "ipython",
    "version": 3
   },
   "file_extension": ".py",
   "mimetype": "text/x-python",
   "name": "python",
   "nbconvert_exporter": "python",
   "pygments_lexer": "ipython3",
   "version": "3.7.6"
  }
 },
 "nbformat": 4,
 "nbformat_minor": 4
}
