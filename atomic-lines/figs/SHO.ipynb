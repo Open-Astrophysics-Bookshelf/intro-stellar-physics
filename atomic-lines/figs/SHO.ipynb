{
 "metadata": {
  "name": "",
  "signature": "sha256:56c44d04801a8f31cc1197754c2e4bf2c7fe9ef23a1d4952996b10d8b1c23283"
 },
 "nbformat": 3,
 "nbformat_minor": 0,
 "worksheets": [
  {
   "cells": [
    {
     "cell_type": "heading",
     "level": 1,
     "metadata": {
      "slideshow": {
       "slide_type": "notes"
      }
     },
     "source": [
      "A Driven Harmonic Oscillator: Beats and Resonance"
     ]
    },
    {
     "cell_type": "markdown",
     "metadata": {},
     "source": [
      "This notebook contains code used to generate the figures in the notes on resonances. You are welcome to play with the settings to see how the oscillator behavior changes."
     ]
    },
    {
     "cell_type": "code",
     "collapsed": false,
     "input": [
      "%matplotlib inline\n",
      "import numpy as np\n",
      "import matplotlib.pyplot as plt"
     ],
     "language": "python",
     "metadata": {
      "slideshow": {
       "slide_type": "skip"
      }
     },
     "outputs": []
    },
    {
     "cell_type": "heading",
     "level": 2,
     "metadata": {},
     "source": [
      "A driven simple harmonic oscillator"
     ]
    },
    {
     "cell_type": "code",
     "collapsed": false,
     "input": [
      "class SHO:\n",
      "    \"\"\"\n",
      "    This class computes the behavior of a simple harmonic oscillator (natural frequency w0) \n",
      "    being driven at a frequency w. Note that setting w=w0 will result in an error.\n",
      "    \n",
      "    To initialize,\n",
      "    h = SHO(w0=<natural frequency>,w=<driving frequency>)\n",
      "    \n",
      "    and then to plot,\n",
      "    h.plot_run()\n",
      "    \"\"\"\n",
      "    from numpy import sin, pi, arange\n",
      "    import matplotlib.pyplot as plt\n",
      "    \n",
      "    def __init__(self,w0=2.0*pi,w = 0.98*2.0*pi):\n",
      "        \"\"\"\n",
      "        w0 := natural frequency\n",
      "        w  := driving freqency\n",
      "        \"\"\"\n",
      "        self._w0 = w0\n",
      "        self._w = w\n",
      "        self._f = 1.0\n",
      "        \n",
      "        self._Delta = w0-w\n",
      "        self._wm = 0.5*(w0+w)\n",
      "        \n",
      "        # check for Delta == 0\n",
      "        if self._Delta == 0.0: raise ValueError('w must not equal w0')\n",
      "    \n",
      "    def x(self,t):\n",
      "        \"\"\"\n",
      "        Returns x(t) for a driven harmonic oscillator.\n",
      "        Arguments:\n",
      "        t := [array-like] time series.\n",
      "        \"\"\"\n",
      "        f = self._f\n",
      "        D = self._Delta\n",
      "        w = self._wm\n",
      "        \n",
      "        return f/D/w*self.sin(0.5*D*t)*self.sin(w*t)\n",
      "    \n",
      "    def plot_run(self):\n",
      "        \"\"\"\n",
      "        Generates a plot of the time-series.\n",
      "        \"\"\"\n",
      "        \n",
      "        # get 4 periods of beat, but no more than 40 cycles of carrier\n",
      "        tend = min(8.0*self.pi/self._Delta,80.0*self.pi/self._wm)\n",
      "        # 10 points per carrier signal oscillation\n",
      "        dt = 2.0*self.pi/self._wm/10.0\n",
      "        t = self.arange(0.0,tend,dt)\n",
      "        r = self.x(t)\n",
      "       \n",
      "        charsize = 10   # points\n",
      "        major_ticklength = 0.6*charsize\n",
      "        major_tickwidth = 0.9   # points\n",
      "        minor_ticklength = 0.3*charsize\n",
      "        minor_tickwidth = 0.7   # points\n",
      "        plt.ylabel(r'$x(t)$',fontsize=charsize)\n",
      "        plt.xlabel(r'$t$',fontsize=charsize)\n",
      "\n",
      "        plt.tick_params(axis='both',\\\n",
      "            length=major_ticklength, width=major_tickwidth,which='major',labelsize=10)\n",
      "        plt.tick_params(axis='both',\\\n",
      "            length=minor_ticklength,width=minor_tickwidth,which='minor',labelsize=8)\n",
      "        plt.tight_layout()\n",
      "        \n",
      "        x0,x1,y0,y1 = self.set_boundaries(t,r)\n",
      "        plt.xlim(x0,x1)\n",
      "        plt.ylim(y0,y1)\n",
      "\n",
      "        plt.plot(t,r,color='0.2',linewidth=1.5)\n",
      "    \n",
      "    def set_boundaries(self,x,y,margin=0.05):\n",
      "        width = max(x)-min(x)\n",
      "        height = max(y)-min(y)\n",
      "        hpad = margin*width\n",
      "        vpad = margin*height\n",
      "        x0 = min(x)-hpad\n",
      "        x1 = max(x)+hpad\n",
      "        y0 = min(y)-vpad\n",
      "        y1 = max(y)+vpad\n",
      "        return x0,x1,y0,y1\n"
     ],
     "language": "python",
     "metadata": {
      "slideshow": {
       "slide_type": "skip"
      }
     },
     "outputs": []
    },
    {
     "cell_type": "code",
     "collapsed": false,
     "input": [
      "# change wfac to get different values of the driving frequency\n",
      "wfac = [1.6,1.7,1.8,1.9]\n",
      "w0 = 2.0*np.pi\n",
      "plt.figure(figsize=(12,3))\n",
      "\n",
      "for i in range(4):\n",
      "    plt.subplot(1,4,i+1)\n",
      "    h = SHO(w0=2.0*np.pi,w=wfac[i]*np.pi)\n",
      "    h.plot_run()\n",
      "    plt.title(r'$\\omega = {0:3.1f}\\pi,\\,\\omega_0=2\\pi$'.format(wfac[i]),fontsize=10)\n",
      "plt.savefig('beats.pdf',format='pdf')"
     ],
     "language": "python",
     "metadata": {
      "slideshow": {
       "slide_type": "slide"
      }
     },
     "outputs": []
    },
    {
     "cell_type": "heading",
     "level": 2,
     "metadata": {},
     "source": [
      "A damped, driven harmonic oscillator"
     ]
    },
    {
     "cell_type": "code",
     "collapsed": false,
     "input": [
      "class DDO:\n",
      "    from numpy import sin, cos, pi, arange, sqrt, exp\n",
      "    import matplotlib.pyplot as plt\n",
      "    \n",
      "    def __init__(self,w0=2.0*pi,w = 0.98*2.0*pi,f=1.0,gamma=0.1):\n",
      "        \"\"\"\n",
      "        w0 := natural frequency\n",
      "        w  := driving frequency\n",
      "        f  := force/mass\n",
      "        gamma := damping force/mass\n",
      "        \n",
      "        Note that if the system is at resonance (w=w0), then there must be some\n",
      "        damping (gamma > 0) for a solution to exist.\n",
      "        \"\"\"\n",
      "        self._w0 = w0\n",
      "        self._w = w\n",
      "        self._f = f\n",
      "        self._gamma = gamma\n",
      "        \n",
      "        self._denom = (w0**2-w**2)**2+gamma**2*w**2\n",
      "        self._num1 = f*(w0**2 - w**2)\n",
      "        self._num2 = f*gamma*w\n",
      "        self._wd = w0*self.sqrt(1.0-gamma**2/4.0/w0**2)\n",
      "        \n",
      "        # check for errors\n",
      "        if self._gamma < 0.0:\n",
      "            raise  ValueError ('gamma cannot be negative')\n",
      "        \n",
      "        if self._w == self._w0 and self._gamma == 0.0:\n",
      "            raise ValueError('if w == w0, then gamma must be positive')\n",
      "        \n",
      "    def x(self,t,x0 = 0.0,v0 = 0.0):\n",
      "        \"\"\"\n",
      "        Returns a time series of the oscillator's position\n",
      "        \n",
      "        Arguments:\n",
      "        x0 := initial position\n",
      "        v0 := inital velocity\n",
      "        \"\"\"\n",
      "        g = self._gamma\n",
      "        da = self._num1/self._denom\n",
      "        db = self._num2/self._denom\n",
      "        w = self._w\n",
      "        wd = self._wd\n",
      "        \n",
      "        return da*self.cos(w*t) + db*self.sin(w*t) \\\n",
      "            + (x0-da)*self.exp(-0.5*g*t)*self.cos(wd*t) \\\n",
      "            + (v0/wd - w*db/wd)*self.exp(-0.5*g*t)*self.sin(wd*t)\n",
      "    \n",
      "    def plot_run(self,x0,v0):\n",
      "        \"\"\"\n",
      "        generates a plot of the time series.\n",
      "        \n",
      "        Arguments:\n",
      "        x0 := initial position\n",
      "        v0 := inital velocity        \n",
      "        \"\"\"\n",
      "        # get 5 damping times, but no more than 100 cycles of carrier\n",
      "        tend = min(200.0*self.pi/max(self._w0,self._w),10.0/self._gamma)\n",
      "        # 10 points per oscillation\n",
      "        dt = 2.0*self.pi/max(self._w,self._w0)/10.0\n",
      "        t = self.arange(0.0,tend,dt)\n",
      "        r = self.x(t,x0,v0)\n",
      "       \n",
      "        plt.figure(figsize=(12,3))\n",
      "        charsize = 10   # points\n",
      "        major_ticklength = 0.6*charsize\n",
      "        major_tickwidth = 0.9   # points\n",
      "        minor_ticklength = 0.3*charsize\n",
      "        minor_tickwidth = 0.7   # points\n",
      "        plt.ylabel(r'$x(t)$',fontsize=charsize)\n",
      "        plt.xlabel(r'$t$',fontsize=charsize)\n",
      "\n",
      "        plt.tick_params(axis='both',\\\n",
      "            length=major_ticklength, width=major_tickwidth,which='major',labelsize=10)\n",
      "        plt.tick_params(axis='both',\\\n",
      "            length=minor_ticklength,width=minor_tickwidth,which='minor',labelsize=8)\n",
      "        plt.tight_layout()\n",
      "        \n",
      "        xl,xr,yb,yt = self.set_boundaries(t,r)\n",
      "        plt.xlim(xl,xr)\n",
      "        plt.ylim(yb,yt)\n",
      "\n",
      "        # put bars at half-periods of carrier\n",
      "        xbar = self.arange(0.0,tend,2.0*self.pi/self._wd)\n",
      "        plt.vlines(xbar,yb,yt,colors=u'0.8',linewidth=0.9)\n",
      "        plt.plot(t,r,color='0.2',linewidth=1.5)\n",
      "    \n",
      "    def set_boundaries(self,x,y,margin=0.01):\n",
      "        width = max(x)-min(x)\n",
      "        height = max(y)-min(y)\n",
      "        hpad = margin*width\n",
      "        vpad = margin*height\n",
      "        x0 = min(x)-hpad\n",
      "        x1 = max(x)+hpad\n",
      "        y0 = min(y)-vpad\n",
      "        y1 = max(y)+vpad\n",
      "        return x0,x1,y0,y1\n"
     ],
     "language": "python",
     "metadata": {
      "slideshow": {
       "slide_type": "slide"
      }
     },
     "outputs": []
    },
    {
     "cell_type": "markdown",
     "metadata": {},
     "source": [
      "In the following cells, change the parameters to get different oscillator behaviors"
     ]
    },
    {
     "cell_type": "code",
     "collapsed": false,
     "input": [
      "# The damped oscillator, no driving.\n",
      "d = DDO(w0=2.0*np.pi,w=1.7*np.pi,f=0.0,gamma=0.04*np.pi)\n",
      "d.plot_run(1.0,0.0)\n",
      "#plt.savefig('damped.pdf',format='pdf')"
     ],
     "language": "python",
     "metadata": {},
     "outputs": []
    },
    {
     "cell_type": "code",
     "collapsed": false,
     "input": [
      "# The damped, driven oscillator.  Driving is off-resonance.\n",
      "d = DDO(w0=2.0*np.pi,w=1.7*np.pi,f=4.0,gamma=0.04*np.pi)\n",
      "d.plot_run(1.0,0.0)\n",
      "#plt.savefig('damped-driven.pdf',format='pdf')"
     ],
     "language": "python",
     "metadata": {},
     "outputs": []
    },
    {
     "cell_type": "code",
     "collapsed": false,
     "input": [
      "# The dampled, driven oscillator. Driving is at resonance. Vary w slightly\u2014what happens?\n",
      "d = DDO(w0=2.0*np.pi,w=2.0*np.pi,f=4.0,gamma=0.04*np.pi)\n",
      "d.plot_run(1.0,0.0)"
     ],
     "language": "python",
     "metadata": {},
     "outputs": []
    }
   ],
   "metadata": {}
  }
 ]
}