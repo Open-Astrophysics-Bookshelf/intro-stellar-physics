{
 "cells": [
  {
   "cell_type": "markdown",
   "metadata": {},
   "source": [
    "# Partition function for H in A-stars"
   ]
  },
  {
   "cell_type": "code",
   "execution_count": null,
   "metadata": {
    "collapsed": true
   },
   "outputs": [],
   "source": [
    "%matplotlib inline\n",
    "import numpy as np\n",
    "import scipy.constants as sc\n",
    "from scipy.optimize import brentq\n",
    "import matplotlib.pyplot as plt"
   ]
  },
  {
   "cell_type": "code",
   "execution_count": null,
   "metadata": {},
   "outputs": [],
   "source": [
    "E0 = sc.h*sc.c*sc.Rydberg/sc.eV # Rydberg energy\n",
    "a0 = sc.hbar/sc.m_e/sc.c/sc.alpha # Bohr radius"
   ]
  },
  {
   "cell_type": "code",
   "execution_count": null,
   "metadata": {},
   "outputs": [],
   "source": [
    "def beta(T):\n",
    "    return sc.eV/sc.k/T"
   ]
  },
  {
   "cell_type": "code",
   "execution_count": null,
   "metadata": {},
   "outputs": [],
   "source": [
    "def Qn(d,T,nmax=-1):\n",
    "    # density is in cm**-3: convert\n",
    "    d *= 1.0e6\n",
    "    if nmax < 0:\n",
    "        nmax = np.int((2*a0**3*d)**(-1/6))\n",
    "    bE0 = beta(T)*E0\n",
    "    return np.array([4*n**2 * np.exp(-bE0*(1-1/n**2)) for n in range(1,nmax+1)])"
   ]
  },
  {
   "cell_type": "code",
   "execution_count": null,
   "metadata": {},
   "outputs": [],
   "source": [
    "for lgd in range(13,18):\n",
    "    d = 10.0**lgd\n",
    "    print(lgd,np.sum(Qn(d,10000.0)))"
   ]
  },
  {
   "cell_type": "markdown",
   "metadata": {},
   "source": [
    "Thus, we may take $Q = 4\\exp(\\beta E_0)$ for temperatures around $10^4\\,\\mathrm{K}$. At a density $n=10^{15}\\,\\mathrm{cm}^{-3}$, the probability of an H atom being in level $n=2$ is..."
   ]
  },
  {
   "cell_type": "code",
   "execution_count": null,
   "metadata": {
    "collapsed": true
   },
   "outputs": [],
   "source": [
    "def p2(d,T):\n",
    "    bE0 = beta(T)*E0\n",
    "    return 16*np.exp(-bE0*(1-1/4))/np.sum(Qn(d,T))"
   ]
  },
  {
   "cell_type": "code",
   "execution_count": null,
   "metadata": {},
   "outputs": [],
   "source": [
    "p2(1.0e15,10000.0)"
   ]
  },
  {
   "cell_type": "code",
   "execution_count": null,
   "metadata": {
    "collapsed": true
   },
   "outputs": [],
   "source": [
    "def xfcn(x,d,T):\n",
    "    # d in cm**-3\n",
    "    d *= 1.0e6\n",
    "    xi = 4.0*(sc.m_e*sc.k*T/2/np.pi/sc.hbar**2)**(3/2) * np.exp(-beta(T)*E0) / d /np.sum(Qn(d,T))\n",
    "    return (1.0-x)**2 - xi*x"
   ]
  },
  {
   "cell_type": "code",
   "execution_count": null,
   "metadata": {},
   "outputs": [],
   "source": [
    "xfcn(0.001,1.0e15,1.5e4)"
   ]
  },
  {
   "cell_type": "code",
   "execution_count": null,
   "metadata": {
    "collapsed": true
   },
   "outputs": [],
   "source": [
    "def xneut(d,T):\n",
    "    return brentq(xfcn,0.0,1.0,args=(d,T))"
   ]
  },
  {
   "cell_type": "code",
   "execution_count": null,
   "metadata": {},
   "outputs": [],
   "source": [
    "xneut(1.0e15,15000)"
   ]
  },
  {
   "cell_type": "code",
   "execution_count": null,
   "metadata": {
    "collapsed": true
   },
   "outputs": [],
   "source": [
    "d = 1.0e14\n",
    "T = np.linspace(5000,20000,100)\n",
    "n2frac = np.zeros_like(T)\n",
    "for i in range(len(T)):\n",
    "    n2frac[i] = xneut(d,T[i])*p2(d,T[i])"
   ]
  },
  {
   "cell_type": "code",
   "execution_count": null,
   "metadata": {},
   "outputs": [],
   "source": [
    "plt.plot(T,n2frac)\n",
    "plt.grid()"
   ]
  },
  {
   "cell_type": "code",
   "execution_count": null,
   "metadata": {
    "collapsed": true
   },
   "outputs": [],
   "source": [
    "T = 1.0e4\n",
    "d=1.0e15\n",
    "bE0 = beta(T)*E0\n",
    "nmax = np.int(0.1*np.exp(bE0/2))\n",
    "nvals = [1,2,3,nmax//10-1,nmax//10,nmax//5-1,nmax//5,nmax-1,nmax]\n",
    "for n in nvals:\n",
    "    print('{0:4d} & {1:4.2e} & {2:7.4f} \\\\\\\\'.format(n,n**2 * np.exp(-bE0*(1-1/n**2)),np.sum(Qn(d,T,n))))"
   ]
  },
  {
   "cell_type": "code",
   "execution_count": null,
   "metadata": {},
   "outputs": [],
   "source": []
  }
 ],
 "metadata": {
  "kernelspec": {
   "display_name": "Python 3",
   "language": "python",
   "name": "python3"
  },
  "language_info": {
   "codemirror_mode": {
    "name": "ipython",
    "version": 3
   },
   "file_extension": ".py",
   "mimetype": "text/x-python",
   "name": "python",
   "nbconvert_exporter": "python",
   "pygments_lexer": "ipython3",
   "version": "3.6.4"
  }
 },
 "nbformat": 4,
 "nbformat_minor": 2
}
